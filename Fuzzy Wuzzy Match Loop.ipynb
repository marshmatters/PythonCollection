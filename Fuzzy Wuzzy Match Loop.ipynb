{
 "cells": [
  {
   "cell_type": "code",
   "execution_count": 1,
   "metadata": {},
   "outputs": [
    {
     "name": "stderr",
     "output_type": "stream",
     "text": [
      "C:\\Users\\margu\\AppData\\Local\\Continuum\\Anaconda3\\lib\\site-packages\\fuzzywuzzy\\fuzz.py:35: UserWarning: Using slow pure-python SequenceMatcher. Install python-Levenshtein to remove this warning\n",
      "  warnings.warn('Using slow pure-python SequenceMatcher. Install python-Levenshtein to remove this warning')\n"
     ]
    }
   ],
   "source": [
    "from fuzzywuzzy import fuzz\n",
    "from fuzzywuzzy import process\n",
    "import pandas as pd\n",
    "import cx_Oracle as o\n",
    "import os\n",
    "import time as t\n",
    "import datetime as datetime\n",
    "import re"
   ]
  },
  {
   "cell_type": "code",
   "execution_count": null,
   "metadata": {
    "collapsed": true
   },
   "outputs": [],
   "source": [
    "b4 = t.time()\n",
    "\n",
    "r = []\n",
    "for i in ac: \n",
    "    i = ''.join(i)\n",
    "    j = i.lower()\n",
    "    c = []\n",
    "    for k in sf: \n",
    "        k = ''.join(k)\n",
    "        l = k.lower()\n",
    "        c.append([k, fuzz.partial_ratio(j,l)])\n",
    "        cmax = max([sublist[1] for sublist in c])\n",
    "        for sublist in c: \n",
    "            if sublist[1] == cmax:\n",
    "                cname = sublist[0]\n",
    "    r.append([i,cname,cmax])\n",
    "\n",
    "after = t.time()\n",
    "x = b4 - after"
   ]
  }
 ],
 "metadata": {
  "kernelspec": {
   "display_name": "Python 3",
   "language": "python",
   "name": "python3"
  },
  "language_info": {
   "codemirror_mode": {
    "name": "ipython",
    "version": 3
   },
   "file_extension": ".py",
   "mimetype": "text/x-python",
   "name": "python",
   "nbconvert_exporter": "python",
   "pygments_lexer": "ipython3",
   "version": "3.6.2"
  }
 },
 "nbformat": 4,
 "nbformat_minor": 2
}
